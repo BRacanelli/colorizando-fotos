{
  "nbformat": 4,
  "nbformat_minor": 0,
  "metadata": {
    "colab": {
      "name": "2020-11-10-naruto-rasengan.ipynb",
      "provenance": [],
      "authorship_tag": "ABX9TyOb0uuRarIK6v2KVreavoNM",
      "include_colab_link": true
    },
    "kernelspec": {
      "name": "python3",
      "display_name": "Python 3"
    }
  },
  "cells": [
    {
      "cell_type": "markdown",
      "metadata": {
        "id": "view-in-github",
        "colab_type": "text"
      },
      "source": [
        "<a href=\"https://colab.research.google.com/github/eduardouliana/colorizando-fotos/blob/master/_notebooks/2020_11_10_naruto_rasengan.ipynb\" target=\"_parent\"><img src=\"https://colab.research.google.com/assets/colab-badge.svg\" alt=\"Open In Colab\"/></a>"
      ]
    },
    {
      "cell_type": "markdown",
      "metadata": {
        "id": "h9S4GlzsbcXv"
      },
      "source": [
        "# Naruto Rasengan\n",
        "> Foto colorizada por redes neurais em aula na Awari\n",
        "\n",
        "- author: Eduardo Antônio Uliana\n",
        "- toc: false\n",
        "- branch: master\n",
        "- badges: true\n",
        "- comments: true\n",
        "- categories: [naruto, rasengan]\n"
      ]
    },
    {
      "cell_type": "code",
      "metadata": {
        "id": "-cG3ZGhSbbbv"
      },
      "source": [
        "#hide\n",
        "!wget https://raw.githubusercontent.com/awarischool/br-data-science/master/image-colorizer/deoldify_wrapper.py"
      ],
      "execution_count": null,
      "outputs": []
    },
    {
      "cell_type": "markdown",
      "metadata": {
        "id": "1A9I4jsYeOMG"
      },
      "source": [
        ""
      ]
    },
    {
      "cell_type": "code",
      "metadata": {
        "id": "NdCpbxREcH2S"
      },
      "source": [
        "#hide\n",
        "from deoldify_wrapper import DeOldify"
      ],
      "execution_count": null,
      "outputs": []
    },
    {
      "cell_type": "code",
      "metadata": {
        "id": "eAV_n-1lcQ5_"
      },
      "source": [
        "#hide\n",
        "deo = DeOldify()"
      ],
      "execution_count": null,
      "outputs": []
    },
    {
      "cell_type": "code",
      "metadata": {
        "id": "FukbFTvDcvKS",
        "outputId": "1e440d77-ff14-42fd-92b6-f4a8831e239b",
        "colab": {
          "base_uri": "https://localhost:8080/",
          "height": 181
        }
      },
      "source": [
        "#hide_input\n",
        "deo.colorize('https://i.pinimg.com/originals/83/2c/b0/832cb07e69c38b1cdbb25ec86285fff2.jpg')"
      ],
      "execution_count": 1,
      "outputs": [
        {
          "output_type": "error",
          "ename": "NameError",
          "evalue": "ignored",
          "traceback": [
            "\u001b[0;31m---------------------------------------------------------------------------\u001b[0m",
            "\u001b[0;31mNameError\u001b[0m                                 Traceback (most recent call last)",
            "\u001b[0;32m<ipython-input-1-f35a514ca31b>\u001b[0m in \u001b[0;36m<module>\u001b[0;34m()\u001b[0m\n\u001b[1;32m      1\u001b[0m \u001b[0;31m#hide_input\u001b[0m\u001b[0;34m\u001b[0m\u001b[0;34m\u001b[0m\u001b[0;34m\u001b[0m\u001b[0m\n\u001b[0;32m----> 2\u001b[0;31m \u001b[0mdeo\u001b[0m\u001b[0;34m.\u001b[0m\u001b[0mcolorize\u001b[0m\u001b[0;34m(\u001b[0m\u001b[0;34m'https://i.pinimg.com/originals/83/2c/b0/832cb07e69c38b1cdbb25ec86285fff2.jpg'\u001b[0m\u001b[0;34m)\u001b[0m\u001b[0;34m\u001b[0m\u001b[0;34m\u001b[0m\u001b[0m\n\u001b[0m",
            "\u001b[0;31mNameError\u001b[0m: name 'deo' is not defined"
          ]
        }
      ]
    }
  ]
}
